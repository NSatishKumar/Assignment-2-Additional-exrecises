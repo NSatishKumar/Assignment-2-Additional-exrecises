{
 "cells": [
  {
   "cell_type": "code",
   "execution_count": null,
   "metadata": {},
   "outputs": [],
   "source": [
    "## Additional practice 2.1"
   ]
  },
  {
   "cell_type": "markdown",
   "metadata": {},
   "source": [
    "##  1) The function \"echo_name\" takes 2 parameters: a string value, \"name1\"and an integer value, \"echo_int\". It returns a string that is a concatenation of \"echo_int\" copies of \"name1\"\n",
    "\n",
    " Your task is to convert this simple function into a lambda function. \n",
    "\n",
    "                         Instructions: \n",
    "                         Define the lambda function \"echo_name\" using the variables \"name1\" and \" \n",
    "                         echo_int\". Replicate what the original function definition for \"echo_nam \n",
    "                         e ()\" does above. \n",
    "                         Call \"echo_name ()\" with the string argument 'acadgild' and the value 5,  \n",
    "                         in that order. Assign the call to result \n",
    "\n",
    "                         Expected Output  \n",
    "\n",
    "                         acadgildacadgildacadgildacadgildacadgild "
   ]
  },
  {
   "cell_type": "code",
   "execution_count": 6,
   "metadata": {},
   "outputs": [
    {
     "name": "stdout",
     "output_type": "stream",
     "text": [
      "acadgildacadgildacadgildacadgildacadgild\n"
     ]
    }
   ],
   "source": [
    "name1='acadgild'                                   # input string\n",
    "echo_int=5\n",
    "echo_name=lambda name1,echo_int:name1*echo_int      # lambda function\n",
    "result=echo_name(name1,echo_int)\n",
    "print(result)                                      # Displaying the output"
   ]
  },
  {
   "cell_type": "markdown",
   "metadata": {},
   "source": [
    "## 2) Convert temperature in Celsius to Fahrenheit using map() and lambda functions\n",
    "                             Sample input \n",
    "                             Celsius = [49.2, 26.5, 47.3, 47.8] \n",
    "\n",
    "                             Expected Output \n",
    "                             [120.56, 79.7, 117.14, 118.03999999999999]"
   ]
  },
  {
   "cell_type": "code",
   "execution_count": 7,
   "metadata": {},
   "outputs": [
    {
     "name": "stdout",
     "output_type": "stream",
     "text": [
      "[120.56, 79.7, 117.14, 118.03999999999999]\n"
     ]
    }
   ],
   "source": [
    "Celsius=[49.2,26.5,47.3,47.8]                                   # input values\n",
    "Fahrenheit=list(map(lambda Celsius:Celsius*9/5+32,Celsius))     # map and lambda functions\n",
    "print(Fahrenheit)                                               # Displaying the output"
   ]
  },
  {
   "cell_type": "markdown",
   "metadata": {},
   "source": [
    "## 3) The function filter(function, list) filters out all the elements of a list, for which the function function returns True\n",
    "Q. print the letters that are vowels using filter and lambda functions"
   ]
  },
  {
   "cell_type": "code",
   "execution_count": 8,
   "metadata": {
    "scrolled": false
   },
   "outputs": [
    {
     "name": "stdout",
     "output_type": "stream",
     "text": [
      "['e', 'o', 'e', 'o', 'A', 'a', 'i']\n"
     ]
    }
   ],
   "source": [
    "sample_string=\"Welcome to Acadgild\"               # Input string\n",
    "vowels='aeiou'\n",
    "i=0\n",
    "result=[]\n",
    "inputinLowerCase=sample_string.lower()            # converting into lowercase\n",
    "for c in inputinLowerCase:                        # looping the input string \n",
    "    if c in vowels:\n",
    "        result.append(sample_string[i])           # storing the values when condition matches\n",
    "    i=i+1\n",
    "print(result)                              "
   ]
  },
  {
   "cell_type": "markdown",
   "metadata": {},
   "source": [
    "## 4) Use generator expression to print out only alphabets from the following string"
   ]
  },
  {
   "cell_type": "code",
   "execution_count": 9,
   "metadata": {},
   "outputs": [
    {
     "name": "stdout",
     "output_type": "stream",
     "text": [
      "WelcometoacadGild"
     ]
    }
   ],
   "source": [
    "def genfunc(inpstr):                                       # generator function\n",
    "    for c in inpstr:\n",
    "        outputval=\"\"                                       # defining the output variable\n",
    "        if(c.isalpha()):                                   # checking  whether the character is alphabet or not\n",
    "            outputval=c\n",
    "            yield outputval                                # declaring the outputval as yield variable\n",
    "for item in genfunc(\"123@Welc34ometo12@ac#adGild\"):        # calling the generator function\n",
    "    print(item, end='')"
   ]
  },
  {
   "cell_type": "markdown",
   "metadata": {},
   "source": [
    "## 5) Implement a function longestWord() that takes a list of words and returns the longest one."
   ]
  },
  {
   "cell_type": "code",
   "execution_count": 10,
   "metadata": {},
   "outputs": [
    {
     "name": "stdout",
     "output_type": "stream",
     "text": [
      "['Feburary']\n"
     ]
    }
   ],
   "source": [
    "word= [\"January\",\"Feburary\",\"March\",\"April\",\"May\",\"June\",\"July\"]       # input list\n",
    "word.sort(key=len,reverse=True)                                        # sorting the items based on length in descending order \n",
    "output=[word[0]]                                                       # storing the output in a variable    \n",
    "print(output)"
   ]
  },
  {
   "cell_type": "code",
   "execution_count": null,
   "metadata": {},
   "outputs": [],
   "source": []
  },
  {
   "cell_type": "code",
   "execution_count": null,
   "metadata": {},
   "outputs": [],
   "source": []
  }
 ],
 "metadata": {
  "kernelspec": {
   "display_name": "Python 3",
   "language": "python",
   "name": "python3"
  },
  "language_info": {
   "codemirror_mode": {
    "name": "ipython",
    "version": 3
   },
   "file_extension": ".py",
   "mimetype": "text/x-python",
   "name": "python",
   "nbconvert_exporter": "python",
   "pygments_lexer": "ipython3",
   "version": "3.7.0"
  }
 },
 "nbformat": 4,
 "nbformat_minor": 2
}
